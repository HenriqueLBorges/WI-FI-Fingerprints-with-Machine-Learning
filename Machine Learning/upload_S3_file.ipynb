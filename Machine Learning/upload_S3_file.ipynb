{
 "cells": [
  {
   "cell_type": "code",
   "execution_count": 1,
   "metadata": {},
   "outputs": [
    {
     "name": "stdout",
     "output_type": "stream",
     "text": [
      "Solving environment: done\n",
      "\n",
      "## Package Plan ##\n",
      "\n",
      "  environment location: /opt/conda\n",
      "\n",
      "  added / updated specs: \n",
      "    - boto3\n",
      "\n",
      "\n",
      "The following packages will be downloaded:\n",
      "\n",
      "    package                    |            build\n",
      "    ---------------------------|-----------------\n",
      "    jmespath-0.9.3             |           py27_0          34 KB\n",
      "    botocore-1.12.82           |             py_0         3.1 MB\n",
      "    s3transfer-0.1.13          |           py27_0          74 KB\n",
      "    boto3-1.9.82               |             py_0          76 KB\n",
      "    conda-4.6.4                |           py27_0         1.6 MB\n",
      "    ------------------------------------------------------------\n",
      "                                           Total:         5.0 MB\n",
      "\n",
      "The following NEW packages will be INSTALLED:\n",
      "\n",
      "    boto3:      1.9.82-py_0  \n",
      "    botocore:   1.12.82-py_0 \n",
      "    jmespath:   0.9.3-py27_0 \n",
      "    s3transfer: 0.1.13-py27_0\n",
      "\n",
      "The following packages will be UPDATED:\n",
      "\n",
      "    conda:      4.5.12-py27_0 --> 4.6.4-py27_0\n",
      "\n",
      "\n",
      "Downloading and Extracting Packages\n",
      "jmespath-0.9.3       | 34 KB     | ##################################### | 100% \n",
      "botocore-1.12.82     | 3.1 MB    | ##################################### | 100% \n",
      "s3transfer-0.1.13    | 74 KB     | ##################################### | 100% \n",
      "boto3-1.9.82         | 76 KB     | ##################################### | 100% \n",
      "conda-4.6.4          | 1.6 MB    | ##################################### | 100% \n",
      "Preparing transaction: done\n",
      "Verifying transaction: done\n",
      "Executing transaction: done\n",
      "Collecting package metadata: done\n",
      "Solving environment: done\n",
      "\n",
      "# All requested packages already installed.\n",
      "\n"
     ]
    }
   ],
   "source": [
    "import sys\n",
    "!conda install --yes --prefix {sys.prefix} boto3\n",
    "!conda install --yes --prefix {sys.prefix} botocore\n",
    "\n",
    "import boto3\n",
    "import botocore\n",
    "from botocore import UNSIGNED\n",
    "from botocore.client import Config"
   ]
  },
  {
   "cell_type": "code",
   "execution_count": 9,
   "metadata": {},
   "outputs": [],
   "source": [
    "sys.argv = ['upload_S3_file.py', 'tcc-dataset-wifi-fingerprints', 'dataset-complete.csv', '', \n",
    "            '', '/projects/WI-FI-Fingerprints-with-Machine-Learning/Machine Learning/interest_points.csv']\n",
    "\n",
    "bucket_name = sys.argv[1]\n",
    "prefix = sys.argv[2]\n",
    "AWS_ACCESS_KEY = sys.argv[3]\n",
    "AWS_SECRET_ACCESS_KEY = sys.argv[4]\n",
    "file_path = sys.argv[5]\n",
    "\n",
    "s3_conn = boto3.client('s3', aws_access_key_id=AWS_ACCESS_KEY,\n",
    "    aws_secret_access_key=AWS_SECRET_ACCESS_KEY)\n",
    "\n",
    "s3_conn.upload_file(file_path, bucket_name, prefix)\n"
   ]
  },
  {
   "cell_type": "code",
   "execution_count": null,
   "metadata": {},
   "outputs": [],
   "source": []
  }
 ],
 "metadata": {
  "kernelspec": {
   "display_name": "Python 2",
   "language": "python",
   "name": "python2"
  },
  "language_info": {
   "codemirror_mode": {
    "name": "ipython",
    "version": 2
   },
   "file_extension": ".py",
   "mimetype": "text/x-python",
   "name": "python",
   "nbconvert_exporter": "python",
   "pygments_lexer": "ipython2",
   "version": "2.7.15"
  }
 },
 "nbformat": 4,
 "nbformat_minor": 2
}
