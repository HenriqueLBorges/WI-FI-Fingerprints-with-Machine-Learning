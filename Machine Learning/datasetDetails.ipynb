{
 "cells": [
  {
   "cell_type": "code",
   "execution_count": 1,
   "metadata": {},
   "outputs": [],
   "source": [
    "import json"
   ]
  },
  {
   "cell_type": "code",
   "execution_count": 2,
   "metadata": {},
   "outputs": [],
   "source": [
    "#MacAddresses that should not be included\n",
    "forbidenMacAddresses = [u'B8:27:EB:A6:7B:C5', u'B8:27:EB:24:1B:E1', u'B8:27:EB:01:F8:EB']"
   ]
  },
  {
   "cell_type": "code",
   "execution_count": null,
   "metadata": {},
   "outputs": [],
   "source": [
    "#Opens the JSON file.\n",
    "json_data=open('/Users/henriqueborges/Documents/Senac/TCC/imports/allFiles.json').read()\n",
    "data = json.loads(json_data)"
   ]
  },
  {
   "cell_type": "code",
   "execution_count": 4,
   "metadata": {},
   "outputs": [],
   "source": [
    "totalFingerprints = 0\n",
    "macAddresses = {}\n",
    "items = []\n",
    "keys = []\n",
    "headers = list()\n",
    "rooms = {}"
   ]
  },
  {
   "cell_type": "code",
   "execution_count": null,
   "metadata": {},
   "outputs": [],
   "source": [
    "#navigates through every document in json\n",
    "for document in data:\n",
    "    #navigates through every fingerprint inside document fingerprints' array\n",
    "    for fingerprint in document['fingerprints']:\n",
    "        #navigates through every access inside the fingerprint array\n",
    "        for accessPoint in fingerprint:\n",
    "            if accessPoint['macAddress'] not in forbidenMacAddresses and accessPoint['macAddress'] not in items:\n",
    "                items.append(accessPoint['macAddress'])"
   ]
  },
  {
   "cell_type": "code",
   "execution_count": 6,
   "metadata": {},
   "outputs": [],
   "source": [
    "#Creates a dictionaire with the macAddresses' correct position\n",
    "for i in range(len(items)):\n",
    "    macAddresses [items[i]] = i\n",
    "    keys.append(items[i])"
   ]
  },
  {
   "cell_type": "code",
   "execution_count": null,
   "metadata": {},
   "outputs": [],
   "source": [
    "#navigates through every document in json\n",
    "for document in data:\n",
    "        \n",
    "    total = 0\n",
    "    #navigates through every fingerprint inside document fingerprints' array\n",
    "    for fingerprint in document['fingerprints']:\n",
    "        items = [0] * len(macAddresses)\n",
    "\n",
    "        #navigates through every accessPoint inside the fingerprint array\n",
    "        for accessPoint in fingerprint:\n",
    "            if accessPoint['macAddress'] not in forbidenMacAddresses:\n",
    "                items [macAddresses[accessPoint['macAddress']]] = accessPoint['RSSI']\n",
    "                \n",
    "        totalFingerprints += 1\n",
    "        total += 1\n",
    "    rooms[document['room']] = total"
   ]
  },
  {
   "cell_type": "code",
   "execution_count": null,
   "metadata": {},
   "outputs": [],
   "source": [
    "print 'Wi-Fi Fingerprints total = ' + str(totalFingerprints)\n",
    "print 'Access points = ' + str(len(keys))\n",
    "print 'Interest points total = ' + str(len(data))\n",
    "print(rooms)"
   ]
  },
  {
   "cell_type": "code",
   "execution_count": null,
   "metadata": {},
   "outputs": [],
   "source": []
  }
 ],
 "metadata": {
  "kernelspec": {
   "display_name": "Python 2",
   "language": "python",
   "name": "python2"
  },
  "language_info": {
   "codemirror_mode": {
    "name": "ipython",
    "version": 2
   },
   "file_extension": ".py",
   "mimetype": "text/x-python",
   "name": "python",
   "nbconvert_exporter": "python",
   "pygments_lexer": "ipython2",
   "version": "2.7.15"
  }
 },
 "nbformat": 4,
 "nbformat_minor": 2
}
