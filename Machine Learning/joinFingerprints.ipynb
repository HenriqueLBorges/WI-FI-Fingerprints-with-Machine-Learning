{
 "cells": [
  {
   "cell_type": "code",
   "execution_count": 5,
   "metadata": {},
   "outputs": [],
   "source": [
    "import json\n",
    "json1_data=open('/Users/henriqueborges/Documents/Senac/TCC/imports/A114.json').read()\n",
    "data1 = json.loads(json1_data)\n",
    "json2_data=open('/Users/henriqueborges/Documents/Senac/TCC/imports/A115.json').read()\n",
    "data2 = json.loads(json2_data)"
   ]
  },
  {
   "cell_type": "code",
   "execution_count": 6,
   "metadata": {},
   "outputs": [],
   "source": [
    "#Merges both fingerprints array\n",
    "data1['fingerprints'].extend(data2['fingerprints'])\n",
    "\n",
    "#Merges both fingerprints_order array\n",
    "data1['fingerprints_order'].extend(data2['fingerprints_order'])\n",
    "\n",
    "#Remove duplicates\n",
    "data1['fingerprints_order'] = list(set(data1['fingerprints_order']))"
   ]
  },
  {
   "cell_type": "code",
   "execution_count": null,
   "metadata": {},
   "outputs": [],
   "source": [
    "#Prints the merged fingerprints\n",
    "print(data1['fingerprints'])"
   ]
  },
  {
   "cell_type": "code",
   "execution_count": 11,
   "metadata": {},
   "outputs": [
    {
     "name": "stdout",
     "output_type": "stream",
     "text": [
      "[u'E2:C9:7A:59:88:18', u'24:79:2A:3D:3D:08', u'24:79:2A:3D:1E:38', u'24:79:2A:3D:2F:D8', u'24:79:2A:FD:BF:08', u'24:79:2A:3D:BB:58', u'24:79:2A:FD:21:08', u'74:3E:2B:78:34:B8', u'24:79:2A:BD:AB:58', u'24:79:2A:FD:C5:98', u'88:B4:A6:B2:AF:29', u'22:88:65:50:25:07', u'B8:27:EB:24:1B:E1', u'24:79:2A:BD:1E:88', u'24:79:2A:FD:1B:18', u'26:4B:ED:66:36:67', u'24:79:2A:3D:C5:88', u'24:79:2A:BD:1B:18', u'98:39:8E:FF:14:43', u'24:79:2A:3D:B0:78', u'24:79:2A:3D:1E:88', u'24:79:2A:BD:1E:38', u'24:79:2A:BD:C5:98', u'82:5A:04:FB:C2:C9', u'24:79:2A:FD:BB:58', u'24:79:2A:FD:31:48', u'24:79:2A:FC:94:68', u'24:79:2A:3D:AB:58', u'A8:16:D0:22:A8:35', u'5A:3F:54:F9:E8:9A', u'24:79:2A:3D:21:08', u'24:79:2A:FD:1E:38', u'F0:D7:AA:A6:B8:D4', u'24:79:2A:BD:BB:58', u'24:79:2A:BD:B0:78', u'24:79:2A:FD:3D:08', u'24:79:2A:FD:B0:78', u'24:79:2A:FD:2F:D8', u'24:79:2A:FD:C5:88', u'24:79:2A:BD:AC:18', u'74:3E:2B:B8:2A:A8', u'60:45:CB:99:3C:46', u'24:79:2A:BD:3D:08', u'24:79:2A:3D:C5:98', u'24:79:2A:3D:BF:08', u'AE:2B:6E:33:4B:EF', u'24:79:2A:BC:94:68', u'24:79:2A:3D:1B:18', u'24:79:2A:FD:AB:58', u'52:92:B9:DD:7F:88', u'24:79:2A:FD:1E:88', u'24:79:2A:3D:31:48', u'74:3E:2B:78:2A:A8', u'24:79:2A:BD:2F:D8', u'24:79:2A:BD:C5:88', u'24:79:2A:BD:21:08', u'24:79:2A:FD:AC:18', u'C8:E0:EB:3C:7A:DF', u'24:79:2A:3C:94:68', u'24:79:2A:BD:31:48', u'24:79:2A:3D:AC:18', u'24:79:2A:BD:BF:08']\n"
     ]
    }
   ],
   "source": [
    "#Prints the merged fingerprints order\n",
    "print(data1['fingerprints_order'])"
   ]
  },
  {
   "cell_type": "code",
   "execution_count": null,
   "metadata": {},
   "outputs": [],
   "source": [
    "#Saves a new JSON document with the merged data\n",
    "with open('/Users/henriqueborges/Documents/Senac/TCC/imports/mergedDocument.json', 'w') as outfile:\n",
    "    json.dump(data1, outfile)"
   ]
  }
 ],
 "metadata": {
  "kernelspec": {
   "display_name": "Python 2",
   "language": "python",
   "name": "python2"
  },
  "language_info": {
   "codemirror_mode": {
    "name": "ipython",
    "version": 2
   },
   "file_extension": ".py",
   "mimetype": "text/x-python",
   "name": "python",
   "nbconvert_exporter": "python",
   "pygments_lexer": "ipython2",
   "version": "2.7.15"
  }
 },
 "nbformat": 4,
 "nbformat_minor": 2
}
