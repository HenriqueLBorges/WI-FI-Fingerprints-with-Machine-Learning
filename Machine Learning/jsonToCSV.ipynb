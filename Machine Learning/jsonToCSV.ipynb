{
 "cells": [
  {
   "cell_type": "code",
   "execution_count": 1,
   "metadata": {},
   "outputs": [],
   "source": [
    "import json\n",
    "import csv\n",
    "import utils\n",
    "import pickle"
   ]
  },
  {
   "cell_type": "code",
   "execution_count": 2,
   "metadata": {},
   "outputs": [],
   "source": [
    "#MacAddresses that should not be included\n",
    "forbidenMacAddresses = [u'B8:27:EB:A6:7B:C5', u'B8:27:EB:24:1B:E1', u'B8:27:EB:01:F8:EB']"
   ]
  },
  {
   "cell_type": "code",
   "execution_count": 3,
   "metadata": {},
   "outputs": [
    {
     "ename": "ValueError",
     "evalue": "Unterminated string starting at: line 1 column 147849215 (char 147849214)",
     "output_type": "error",
     "traceback": [
      "\u001b[0;31m---------------------------------------------------------------------------\u001b[0m",
      "\u001b[0;31mValueError\u001b[0m                                Traceback (most recent call last)",
      "\u001b[0;32m<ipython-input-3-6343c590c739>\u001b[0m in \u001b[0;36m<module>\u001b[0;34m()\u001b[0m\n\u001b[1;32m      1\u001b[0m \u001b[0;31m#Opens the JSON file.\u001b[0m\u001b[0;34m\u001b[0m\u001b[0;34m\u001b[0m\u001b[0m\n\u001b[1;32m      2\u001b[0m \u001b[0mjson_data\u001b[0m\u001b[0;34m=\u001b[0m\u001b[0mopen\u001b[0m\u001b[0;34m(\u001b[0m\u001b[0;34m'/projects/USO-DE-TECNOLOGIA-ASSISTIVA-PARA-GUIAR-ALUNOS-COM-DEFICIENCIA-VISUAL-NO-CAMPUS-SENAC-SANTO-AMARO/allFiles.json'\u001b[0m\u001b[0;34m)\u001b[0m\u001b[0;34m.\u001b[0m\u001b[0mread\u001b[0m\u001b[0;34m(\u001b[0m\u001b[0;34m)\u001b[0m\u001b[0;34m\u001b[0m\u001b[0m\n\u001b[0;32m----> 3\u001b[0;31m \u001b[0mdata\u001b[0m \u001b[0;34m=\u001b[0m \u001b[0mjson\u001b[0m\u001b[0;34m.\u001b[0m\u001b[0mloads\u001b[0m\u001b[0;34m(\u001b[0m\u001b[0mjson_data\u001b[0m\u001b[0;34m)\u001b[0m\u001b[0;34m\u001b[0m\u001b[0m\n\u001b[0m",
      "\u001b[0;32m/opt/conda/lib/python2.7/json/__init__.pyc\u001b[0m in \u001b[0;36mloads\u001b[0;34m(s, encoding, cls, object_hook, parse_float, parse_int, parse_constant, object_pairs_hook, **kw)\u001b[0m\n\u001b[1;32m    337\u001b[0m             \u001b[0mparse_int\u001b[0m \u001b[0;32mis\u001b[0m \u001b[0mNone\u001b[0m \u001b[0;32mand\u001b[0m \u001b[0mparse_float\u001b[0m \u001b[0;32mis\u001b[0m \u001b[0mNone\u001b[0m \u001b[0;32mand\u001b[0m\u001b[0;34m\u001b[0m\u001b[0m\n\u001b[1;32m    338\u001b[0m             parse_constant is None and object_pairs_hook is None and not kw):\n\u001b[0;32m--> 339\u001b[0;31m         \u001b[0;32mreturn\u001b[0m \u001b[0m_default_decoder\u001b[0m\u001b[0;34m.\u001b[0m\u001b[0mdecode\u001b[0m\u001b[0;34m(\u001b[0m\u001b[0ms\u001b[0m\u001b[0;34m)\u001b[0m\u001b[0;34m\u001b[0m\u001b[0m\n\u001b[0m\u001b[1;32m    340\u001b[0m     \u001b[0;32mif\u001b[0m \u001b[0mcls\u001b[0m \u001b[0;32mis\u001b[0m \u001b[0mNone\u001b[0m\u001b[0;34m:\u001b[0m\u001b[0;34m\u001b[0m\u001b[0m\n\u001b[1;32m    341\u001b[0m         \u001b[0mcls\u001b[0m \u001b[0;34m=\u001b[0m \u001b[0mJSONDecoder\u001b[0m\u001b[0;34m\u001b[0m\u001b[0m\n",
      "\u001b[0;32m/opt/conda/lib/python2.7/json/decoder.pyc\u001b[0m in \u001b[0;36mdecode\u001b[0;34m(self, s, _w)\u001b[0m\n\u001b[1;32m    362\u001b[0m \u001b[0;34m\u001b[0m\u001b[0m\n\u001b[1;32m    363\u001b[0m         \"\"\"\n\u001b[0;32m--> 364\u001b[0;31m         \u001b[0mobj\u001b[0m\u001b[0;34m,\u001b[0m \u001b[0mend\u001b[0m \u001b[0;34m=\u001b[0m \u001b[0mself\u001b[0m\u001b[0;34m.\u001b[0m\u001b[0mraw_decode\u001b[0m\u001b[0;34m(\u001b[0m\u001b[0ms\u001b[0m\u001b[0;34m,\u001b[0m \u001b[0midx\u001b[0m\u001b[0;34m=\u001b[0m\u001b[0m_w\u001b[0m\u001b[0;34m(\u001b[0m\u001b[0ms\u001b[0m\u001b[0;34m,\u001b[0m \u001b[0;36m0\u001b[0m\u001b[0;34m)\u001b[0m\u001b[0;34m.\u001b[0m\u001b[0mend\u001b[0m\u001b[0;34m(\u001b[0m\u001b[0;34m)\u001b[0m\u001b[0;34m)\u001b[0m\u001b[0;34m\u001b[0m\u001b[0m\n\u001b[0m\u001b[1;32m    365\u001b[0m         \u001b[0mend\u001b[0m \u001b[0;34m=\u001b[0m \u001b[0m_w\u001b[0m\u001b[0;34m(\u001b[0m\u001b[0ms\u001b[0m\u001b[0;34m,\u001b[0m \u001b[0mend\u001b[0m\u001b[0;34m)\u001b[0m\u001b[0;34m.\u001b[0m\u001b[0mend\u001b[0m\u001b[0;34m(\u001b[0m\u001b[0;34m)\u001b[0m\u001b[0;34m\u001b[0m\u001b[0m\n\u001b[1;32m    366\u001b[0m         \u001b[0;32mif\u001b[0m \u001b[0mend\u001b[0m \u001b[0;34m!=\u001b[0m \u001b[0mlen\u001b[0m\u001b[0;34m(\u001b[0m\u001b[0ms\u001b[0m\u001b[0;34m)\u001b[0m\u001b[0;34m:\u001b[0m\u001b[0;34m\u001b[0m\u001b[0m\n",
      "\u001b[0;32m/opt/conda/lib/python2.7/json/decoder.pyc\u001b[0m in \u001b[0;36mraw_decode\u001b[0;34m(self, s, idx)\u001b[0m\n\u001b[1;32m    378\u001b[0m         \"\"\"\n\u001b[1;32m    379\u001b[0m         \u001b[0;32mtry\u001b[0m\u001b[0;34m:\u001b[0m\u001b[0;34m\u001b[0m\u001b[0m\n\u001b[0;32m--> 380\u001b[0;31m             \u001b[0mobj\u001b[0m\u001b[0;34m,\u001b[0m \u001b[0mend\u001b[0m \u001b[0;34m=\u001b[0m \u001b[0mself\u001b[0m\u001b[0;34m.\u001b[0m\u001b[0mscan_once\u001b[0m\u001b[0;34m(\u001b[0m\u001b[0ms\u001b[0m\u001b[0;34m,\u001b[0m \u001b[0midx\u001b[0m\u001b[0;34m)\u001b[0m\u001b[0;34m\u001b[0m\u001b[0m\n\u001b[0m\u001b[1;32m    381\u001b[0m         \u001b[0;32mexcept\u001b[0m \u001b[0mStopIteration\u001b[0m\u001b[0;34m:\u001b[0m\u001b[0;34m\u001b[0m\u001b[0m\n\u001b[1;32m    382\u001b[0m             \u001b[0;32mraise\u001b[0m \u001b[0mValueError\u001b[0m\u001b[0;34m(\u001b[0m\u001b[0;34m\"No JSON object could be decoded\"\u001b[0m\u001b[0;34m)\u001b[0m\u001b[0;34m\u001b[0m\u001b[0m\n",
      "\u001b[0;31mValueError\u001b[0m: Unterminated string starting at: line 1 column 147849215 (char 147849214)"
     ]
    }
   ],
   "source": [
    "#Opens the JSON file.\n",
    "json_data=open('/projects/USO-DE-TECNOLOGIA-ASSISTIVA-PARA-GUIAR-ALUNOS-COM-DEFICIENCIA-VISUAL-NO-CAMPUS-SENAC-SANTO-AMARO/allFiles.json').read()\n",
    "data = json.loads(json_data)"
   ]
  },
  {
   "cell_type": "code",
   "execution_count": null,
   "metadata": {},
   "outputs": [],
   "source": [
    "macAddresses = {}\n",
    "items = []\n",
    "headers = list()"
   ]
  },
  {
   "cell_type": "code",
   "execution_count": null,
   "metadata": {},
   "outputs": [],
   "source": [
    "#navigates through every document in json\n",
    "for document in data:\n",
    "    #navigates through every fingerprint inside document fingerprints' array\n",
    "    for fingerprint in document['fingerprints']:\n",
    "        #navigates through every access inside the fingerprint array\n",
    "        for accessPoint in fingerprint:\n",
    "            #Mounts a list containing all different Mac Addresses\n",
    "            if accessPoint['macAddress'] not in forbidenMacAddresses and accessPoint['macAddress'] not in items:\n",
    "                items.append(accessPoint['macAddress'])\n",
    "#Prints the list\n",
    "print(items)"
   ]
  },
  {
   "cell_type": "code",
   "execution_count": 73,
   "metadata": {},
   "outputs": [
    {
     "name": "stdout",
     "output_type": "stream",
     "text": [
      "{u'24:79:2A:3C:D5:38': 41, u'24:79:2A:BD:16:C8': 116, u'B8:09:8A:D9:05:F1': 48, u'E0:98:61:27:51:4C': 165, u'24:79:2A:3D:3D:08': 119, u'24:79:2A:FD:21:08': 107, u'24:79:2A:BD:AB:58': 32, u'24:79:2A:FD:C5:98': 4, u'24:79:2A:BD:1B:18': 1, u'24:79:2A:FC:D8:28': 121, u'24:79:2A:3D:1E:88': 9, u'7C:C3:A1:AC:FD:58': 140, u'24:79:2A:3D:BF:08': 25, u'40:D3:AE:EA:09:6C': 168, u'74:3E:2B:B8:3D:F8': 120, u'24:79:2A:BD:3D:08': 129, u'24:79:2A:FD:BB:58': 71, u'24:79:2A:FD:2F:D8': 104, u'BE:9F:EF:B2:2C:56': 55, u'24:79:2A:BD:3B:08': 62, u'D0:92:9E:B5:91:DE': 155, u'24:79:2A:3D:AB:58': 31, u'24:79:2A:3C:D0:78': 12, u'24:79:2A:BD:AD:38': 147, u'24:79:2A:BC:D3:48': 93, u'24:79:2A:BD:16:D8': 74, u'24:79:2A:BD:11:38': 127, u'24:79:2A:3D:16:D8': 77, u'24:79:2A:FD:3B:08': 73, u'D8:30:62:58:A5:0E': 138, u'24:79:2A:FD:C5:88': 24, u'74:3E:2B:B8:2A:A8': 106, u'74:3E:2B:78:2A:A8': 109, u'7C:DD:90:3E:C6:67': 86, u'24:79:2A:FD:AB:58': 23, u'24:79:2A:FD:1E:88': 8, u'24:79:2A:FD:30:28': 52, u'24:79:2A:BD:B0:78': 101, u'24:79:2A:BD:C5:88': 22, u'24:79:2A:BD:21:08': 108, u'24:79:2A:FC:D0:78': 14, u'24:79:2A:BC:D8:08': 84, u'24:79:2A:3D:17:D8': 72, u'F0:3E:90:F9:EB:98': 64, u'D4:63:C6:D5:77:48': 99, u'7C:C3:A1:B7:CE:12': 49, u'50:92:B9:D7:6B:4A': 164, u'24:79:2A:BD:3B:B8': 134, u'24:79:2A:FD:B0:48': 11, u'24:79:2A:FD:3B:B8': 130, u'5A:3F:54:F9:E8:9A': 137, u'24:79:2A:3D:3B:08': 67, u'24:79:2A:3D:B1:E8': 35, u'24:79:2A:3D:C5:88': 27, u'98:39:8E:FF:14:43': 139, u'32:07:4D:70:01:C2': 98, u'24:79:2A:BC:D5:38': 38, u'24:79:2A:BD:1E:38': 19, u'2C:FD:A1:65:B2:BB': 158, u'82:5A:04:FB:C2:C9': 79, u'24:79:2A:FD:16:D8': 76, u'30:B5:C2:48:65:06': 68, u'22:B8:9A:E8:D5:67': 29, u'24:79:2A:3D:1F:38': 57, u'24:79:2A:BD:2F:D8': 105, u'18:31:BF:A6:51:30': 157, u'24:79:2A:3D:21:08': 110, u'24:79:2A:BD:AB:88': 82, u'24:79:2A:3D:3B:B8': 132, u'24:79:2A:BD:1F:28': 42, u'DC:BF:E9:13:28:5E': 153, u'AE:E4:B5:BE:74:1D': 142, u'A8:16:D0:88:5A:7F': 148, u'74:3E:2B:B8:29:08': 169, u'7C:C3:A1:B6:7C:34': 45, u'24:79:2A:3D:C5:98': 2, u'50:92:B9:67:91:FE': 159, u'24:79:2A:3D:B0:78': 100, u'C8:E0:EB:3C:7A:DF': 135, u'98:39:8E:A3:C5:B5': 113, u'24:79:2A:BD:2D:F8': 88, u'24:79:2A:3D:1F:28': 56, u'06:1B:6D:E8:BE:1A': 166, u'24:79:2A:3C:D3:48': 97, u'24:79:2A:BD:3C:08': 95, u'24:79:2A:3D:16:C8': 115, u'24:79:2A:BD:1F:38': 53, u'24:79:2A:FD:BF:08': 26, u'7A:E2:8F:C9:FF:B6': 126, u'88:79:7E:A7:2A:D4': 167, u'24:79:2A:FC:D5:38': 39, u'60:AF:6D:0E:5B:54': 152, u'24:79:2A:FD:2D:F8': 85, u'74:3E:2B:78:34:B8': 28, u'A8:A6:68:BD:0B:7C': 90, u'24:79:2A:FD:AD:38': 145, u'24:79:2A:FD:3C:08': 96, u'24:79:2A:FD:1B:18': 5, u'24:79:2A:BD:B0:48': 10, u'24:79:2A:BD:C5:98': 3, u'24:79:2A:BD:31:48': 58, u'24:79:2A:BC:D0:78': 13, u'24:79:2A:FD:AB:88': 83, u'24:79:2A:3C:D8:08': 91, u'D0:77:14:74:A9:F1': 65, u'02:1A:11:F9:4E:F5': 163, u'24:79:2A:FD:17:D8': 66, u'F0:3E:90:39:EB:98': 61, u'24:79:2A:3D:B0:48': 15, u'24:79:2A:BD:1E:88': 7, u'A8:16:D0:02:87:CF': 80, u'24:79:2A:FD:1E:38': 20, u'F0:D7:AA:E4:E2:F9': 144, u'24:79:2A:BD:BB:58': 70, u'74:3E:2B:B8:34:B8': 33, u'24:79:2A:FD:16:C8': 114, u'F0:3E:90:B9:EB:98': 63, u'24:79:2A:FC:D3:48': 92, u'74:3E:2B:78:29:08': 170, u'24:79:2A:3D:3C:08': 94, u'74:3E:2B:78:3D:F8': 125, u'24:79:2A:3D:25:78': 44, u'24:79:2A:3D:AB:88': 81, u'02:3D:E8:B4:C9:47': 30, u'DC:BF:E9:48:06:4A': 133, u'48:49:C7:00:9D:C0': 112, u'D6:63:C6:1D:2A:6C': 141, u'F0:D7:AA:57:D0:AF': 156, u'F0:D7:AA:69:48:7D': 154, u'C8:E0:EB:3C:79:27': 161, u'24:79:2A:3C:94:68': 6, u'24:79:2A:BD:17:D8': 75, u'22:56:CD:89:CB:76': 117, u'E2:C9:7A:59:88:18': 136, u'24:79:2A:3D:1E:38': 21, u'24:79:2A:3C:D8:28': 123, u'24:79:2A:3D:2F:D8': 103, u'DC:BF:E9:53:B8:39': 160, u'7C:C3:A1:B7:AE:66': 162, u'24:79:2A:3D:BB:58': 69, u'52:92:B9:7F:B0:7A': 78, u'62:F1:89:5F:5E:DA': 172, u'8E:F5:A3:33:27:31': 150, u'24:79:2A:3D:AD:38': 146, u'24:79:2A:FC:D8:08': 89, u'24:79:2A:3D:2D:F8': 87, u'24:79:2A:FD:1F:28': 43, u'24:79:2A:FD:11:38': 128, u'02:1A:11:FE:59:7F': 124, u'24:79:2A:FC:94:68': 16, u'24:79:2A:BD:B1:E8': 36, u'24:79:2A:FD:B1:E8': 37, u'24:79:2A:BC:D8:28': 122, u'18:89:5B:47:E8:95': 171, u'30:4B:07:12:22:D7': 34, u'24:79:2A:FD:3D:08': 118, u'24:79:2A:FD:25:78': 47, u'24:79:2A:BD:25:78': 46, u'24:79:2A:BD:3B:F8': 131, u'24:79:2A:FD:31:48': 59, u'24:79:2A:BD:30:28': 51, u'24:79:2A:BC:94:68': 17, u'24:79:2A:FD:1F:38': 50, u'24:79:2A:3D:1B:18': 0, u'76:9E:AF:7A:F8:B5': 149, u'28:83:35:35:85:5B': 111, u'24:79:2A:3D:31:48': 54, u'24:79:2A:FD:B0:78': 102, u'24:79:2A:3D:11:38': 60, u'38:80:DF:DB:97:B5': 151, u'24:79:2A:3D:30:28': 40, u'02:1A:11:F0:49:B1': 143, u'24:79:2A:BD:BF:08': 18}\n"
     ]
    }
   ],
   "source": [
    "#Creates a dictionaire containing the macAddresses' correct position and a list that will be use as columns for our CSV file\n",
    "keys = []\n",
    "for i in range(len(items)):\n",
    "    macAddresses [items[i]] = i\n",
    "    keys.append(items[i])\n",
    "#Prints the macAddresses' dictionaire   \n",
    "print(macAddresses)"
   ]
  },
  {
   "cell_type": "code",
   "execution_count": 74,
   "metadata": {},
   "outputs": [],
   "source": [
    "#Saves the macAddresses' dictionaire\n",
    "with open('./macAddresses.pkl', 'wb') as f:\n",
    "    pickle.dump(macAddresses, f, pickle.HIGHEST_PROTOCOL)"
   ]
  },
  {
   "cell_type": "code",
   "execution_count": 77,
   "metadata": {},
   "outputs": [
    {
     "name": "stdout",
     "output_type": "stream",
     "text": [
      "['room', u'24:79:2A:3D:1B:18', u'24:79:2A:BD:1B:18', u'24:79:2A:3D:C5:98', u'24:79:2A:BD:C5:98', u'24:79:2A:FD:C5:98', u'24:79:2A:FD:1B:18', u'24:79:2A:3C:94:68', u'24:79:2A:BD:1E:88', u'24:79:2A:FD:1E:88', u'24:79:2A:3D:1E:88', u'24:79:2A:BD:B0:48', u'24:79:2A:FD:B0:48', u'24:79:2A:3C:D0:78', u'24:79:2A:BC:D0:78', u'24:79:2A:FC:D0:78', u'24:79:2A:3D:B0:48', u'24:79:2A:FC:94:68', u'24:79:2A:BC:94:68', u'24:79:2A:BD:BF:08', u'24:79:2A:BD:1E:38', u'24:79:2A:FD:1E:38', u'24:79:2A:3D:1E:38', u'24:79:2A:BD:C5:88', u'24:79:2A:FD:AB:58', u'24:79:2A:FD:C5:88', u'24:79:2A:3D:BF:08', u'24:79:2A:FD:BF:08', u'24:79:2A:3D:C5:88', u'74:3E:2B:78:34:B8', u'22:B8:9A:E8:D5:67', u'02:3D:E8:B4:C9:47', u'24:79:2A:3D:AB:58', u'24:79:2A:BD:AB:58', u'74:3E:2B:B8:34:B8', u'30:4B:07:12:22:D7', u'24:79:2A:3D:B1:E8', u'24:79:2A:BD:B1:E8', u'24:79:2A:FD:B1:E8', u'24:79:2A:BC:D5:38', u'24:79:2A:FC:D5:38', u'24:79:2A:3D:30:28', u'24:79:2A:3C:D5:38', u'24:79:2A:BD:1F:28', u'24:79:2A:FD:1F:28', u'24:79:2A:3D:25:78', u'7C:C3:A1:B6:7C:34', u'24:79:2A:BD:25:78', u'24:79:2A:FD:25:78', u'B8:09:8A:D9:05:F1', u'7C:C3:A1:B7:CE:12', u'24:79:2A:FD:1F:38', u'24:79:2A:BD:30:28', u'24:79:2A:FD:30:28', u'24:79:2A:BD:1F:38', u'24:79:2A:3D:31:48', u'BE:9F:EF:B2:2C:56', u'24:79:2A:3D:1F:28', u'24:79:2A:3D:1F:38', u'24:79:2A:BD:31:48', u'24:79:2A:FD:31:48', u'24:79:2A:3D:11:38', u'F0:3E:90:39:EB:98', u'24:79:2A:BD:3B:08', u'F0:3E:90:B9:EB:98', u'F0:3E:90:F9:EB:98', u'D0:77:14:74:A9:F1', u'24:79:2A:FD:17:D8', u'24:79:2A:3D:3B:08', u'30:B5:C2:48:65:06', u'24:79:2A:3D:BB:58', u'24:79:2A:BD:BB:58', u'24:79:2A:FD:BB:58', u'24:79:2A:3D:17:D8', u'24:79:2A:FD:3B:08', u'24:79:2A:BD:16:D8', u'24:79:2A:BD:17:D8', u'24:79:2A:FD:16:D8', u'24:79:2A:3D:16:D8', u'52:92:B9:7F:B0:7A', u'82:5A:04:FB:C2:C9', u'A8:16:D0:02:87:CF', u'24:79:2A:3D:AB:88', u'24:79:2A:BD:AB:88', u'24:79:2A:FD:AB:88', u'24:79:2A:BC:D8:08', u'24:79:2A:FD:2D:F8', u'7C:DD:90:3E:C6:67', u'24:79:2A:3D:2D:F8', u'24:79:2A:BD:2D:F8', u'24:79:2A:FC:D8:08', u'A8:A6:68:BD:0B:7C', u'24:79:2A:3C:D8:08', u'24:79:2A:FC:D3:48', u'24:79:2A:BC:D3:48', u'24:79:2A:3D:3C:08', u'24:79:2A:BD:3C:08', u'24:79:2A:FD:3C:08', u'24:79:2A:3C:D3:48', u'32:07:4D:70:01:C2', u'D4:63:C6:D5:77:48', u'24:79:2A:3D:B0:78', u'24:79:2A:BD:B0:78', u'24:79:2A:FD:B0:78', u'24:79:2A:3D:2F:D8', u'24:79:2A:FD:2F:D8', u'24:79:2A:BD:2F:D8', u'74:3E:2B:B8:2A:A8', u'24:79:2A:FD:21:08', u'24:79:2A:BD:21:08', u'74:3E:2B:78:2A:A8', u'24:79:2A:3D:21:08', u'28:83:35:35:85:5B', u'48:49:C7:00:9D:C0', u'98:39:8E:A3:C5:B5', u'24:79:2A:FD:16:C8', u'24:79:2A:3D:16:C8', u'24:79:2A:BD:16:C8', u'22:56:CD:89:CB:76', u'24:79:2A:FD:3D:08', u'24:79:2A:3D:3D:08', u'74:3E:2B:B8:3D:F8', u'24:79:2A:FC:D8:28', u'24:79:2A:BC:D8:28', u'24:79:2A:3C:D8:28', u'02:1A:11:FE:59:7F', u'74:3E:2B:78:3D:F8', u'7A:E2:8F:C9:FF:B6', u'24:79:2A:BD:11:38', u'24:79:2A:FD:11:38', u'24:79:2A:BD:3D:08', u'24:79:2A:FD:3B:B8', u'24:79:2A:BD:3B:F8', u'24:79:2A:3D:3B:B8', u'DC:BF:E9:48:06:4A', u'24:79:2A:BD:3B:B8', u'C8:E0:EB:3C:7A:DF', u'E2:C9:7A:59:88:18', u'5A:3F:54:F9:E8:9A', u'D8:30:62:58:A5:0E', u'98:39:8E:FF:14:43', u'7C:C3:A1:AC:FD:58', u'D6:63:C6:1D:2A:6C', u'AE:E4:B5:BE:74:1D', u'02:1A:11:F0:49:B1', u'F0:D7:AA:E4:E2:F9', u'24:79:2A:FD:AD:38', u'24:79:2A:3D:AD:38', u'24:79:2A:BD:AD:38', u'A8:16:D0:88:5A:7F', u'76:9E:AF:7A:F8:B5', u'8E:F5:A3:33:27:31', u'38:80:DF:DB:97:B5', u'60:AF:6D:0E:5B:54', u'DC:BF:E9:13:28:5E', u'F0:D7:AA:69:48:7D', u'D0:92:9E:B5:91:DE', u'F0:D7:AA:57:D0:AF', u'18:31:BF:A6:51:30', u'2C:FD:A1:65:B2:BB', u'50:92:B9:67:91:FE', u'DC:BF:E9:53:B8:39', u'C8:E0:EB:3C:79:27', u'7C:C3:A1:B7:AE:66', u'02:1A:11:F9:4E:F5', u'50:92:B9:D7:6B:4A', u'E0:98:61:27:51:4C', u'06:1B:6D:E8:BE:1A', u'88:79:7E:A7:2A:D4', u'40:D3:AE:EA:09:6C', u'74:3E:2B:B8:29:08', u'74:3E:2B:78:29:08', u'18:89:5B:47:E8:95', u'62:F1:89:5F:5E:DA', 'room', u'24:79:2A:3D:1B:18', u'24:79:2A:BD:1B:18', u'24:79:2A:3D:C5:98', u'24:79:2A:BD:C5:98', u'24:79:2A:FD:C5:98', u'24:79:2A:FD:1B:18', u'24:79:2A:3C:94:68', u'24:79:2A:BD:1E:88', u'24:79:2A:FD:1E:88', u'24:79:2A:3D:1E:88', u'24:79:2A:BD:B0:48', u'24:79:2A:FD:B0:48', u'24:79:2A:3C:D0:78', u'24:79:2A:BC:D0:78', u'24:79:2A:FC:D0:78', u'24:79:2A:3D:B0:48', u'24:79:2A:FC:94:68', u'24:79:2A:BC:94:68', u'24:79:2A:BD:BF:08', u'24:79:2A:BD:1E:38', u'24:79:2A:FD:1E:38', u'24:79:2A:3D:1E:38', u'24:79:2A:BD:C5:88', u'24:79:2A:FD:AB:58', u'24:79:2A:FD:C5:88', u'24:79:2A:3D:BF:08', u'24:79:2A:FD:BF:08', u'24:79:2A:3D:C5:88', u'74:3E:2B:78:34:B8', u'22:B8:9A:E8:D5:67', u'02:3D:E8:B4:C9:47', u'24:79:2A:3D:AB:58', u'24:79:2A:BD:AB:58', u'74:3E:2B:B8:34:B8', u'30:4B:07:12:22:D7', u'24:79:2A:3D:B1:E8', u'24:79:2A:BD:B1:E8', u'24:79:2A:FD:B1:E8', u'24:79:2A:BC:D5:38', u'24:79:2A:FC:D5:38', u'24:79:2A:3D:30:28', u'24:79:2A:3C:D5:38', u'24:79:2A:BD:1F:28', u'24:79:2A:FD:1F:28', u'24:79:2A:3D:25:78', u'7C:C3:A1:B6:7C:34', u'24:79:2A:BD:25:78', u'24:79:2A:FD:25:78', u'B8:09:8A:D9:05:F1', u'7C:C3:A1:B7:CE:12', u'24:79:2A:FD:1F:38', u'24:79:2A:BD:30:28', u'24:79:2A:FD:30:28', u'24:79:2A:BD:1F:38', u'24:79:2A:3D:31:48', u'BE:9F:EF:B2:2C:56', u'24:79:2A:3D:1F:28', u'24:79:2A:3D:1F:38', u'24:79:2A:BD:31:48', u'24:79:2A:FD:31:48', u'24:79:2A:3D:11:38', u'F0:3E:90:39:EB:98', u'24:79:2A:BD:3B:08', u'F0:3E:90:B9:EB:98', u'F0:3E:90:F9:EB:98', u'D0:77:14:74:A9:F1', u'24:79:2A:FD:17:D8', u'24:79:2A:3D:3B:08', u'30:B5:C2:48:65:06', u'24:79:2A:3D:BB:58', u'24:79:2A:BD:BB:58', u'24:79:2A:FD:BB:58', u'24:79:2A:3D:17:D8', u'24:79:2A:FD:3B:08', u'24:79:2A:BD:16:D8', u'24:79:2A:BD:17:D8', u'24:79:2A:FD:16:D8', u'24:79:2A:3D:16:D8', u'52:92:B9:7F:B0:7A', u'82:5A:04:FB:C2:C9', u'A8:16:D0:02:87:CF', u'24:79:2A:3D:AB:88', u'24:79:2A:BD:AB:88', u'24:79:2A:FD:AB:88', u'24:79:2A:BC:D8:08', u'24:79:2A:FD:2D:F8', u'7C:DD:90:3E:C6:67', u'24:79:2A:3D:2D:F8', u'24:79:2A:BD:2D:F8', u'24:79:2A:FC:D8:08', u'A8:A6:68:BD:0B:7C', u'24:79:2A:3C:D8:08', u'24:79:2A:FC:D3:48', u'24:79:2A:BC:D3:48', u'24:79:2A:3D:3C:08', u'24:79:2A:BD:3C:08', u'24:79:2A:FD:3C:08', u'24:79:2A:3C:D3:48', u'32:07:4D:70:01:C2', u'D4:63:C6:D5:77:48', u'24:79:2A:3D:B0:78', u'24:79:2A:BD:B0:78', u'24:79:2A:FD:B0:78', u'24:79:2A:3D:2F:D8', u'24:79:2A:FD:2F:D8', u'24:79:2A:BD:2F:D8', u'74:3E:2B:B8:2A:A8', u'24:79:2A:FD:21:08', u'24:79:2A:BD:21:08', u'74:3E:2B:78:2A:A8', u'24:79:2A:3D:21:08', u'28:83:35:35:85:5B', u'48:49:C7:00:9D:C0', u'98:39:8E:A3:C5:B5', u'24:79:2A:FD:16:C8', u'24:79:2A:3D:16:C8', u'24:79:2A:BD:16:C8', u'22:56:CD:89:CB:76', u'24:79:2A:FD:3D:08', u'24:79:2A:3D:3D:08', u'74:3E:2B:B8:3D:F8', u'24:79:2A:FC:D8:28', u'24:79:2A:BC:D8:28', u'24:79:2A:3C:D8:28', u'02:1A:11:FE:59:7F', u'74:3E:2B:78:3D:F8', u'7A:E2:8F:C9:FF:B6', u'24:79:2A:BD:11:38', u'24:79:2A:FD:11:38', u'24:79:2A:BD:3D:08', u'24:79:2A:FD:3B:B8', u'24:79:2A:BD:3B:F8', u'24:79:2A:3D:3B:B8', u'DC:BF:E9:48:06:4A', u'24:79:2A:BD:3B:B8', u'C8:E0:EB:3C:7A:DF', u'E2:C9:7A:59:88:18', u'5A:3F:54:F9:E8:9A', u'D8:30:62:58:A5:0E', u'98:39:8E:FF:14:43', u'7C:C3:A1:AC:FD:58', u'D6:63:C6:1D:2A:6C', u'AE:E4:B5:BE:74:1D', u'02:1A:11:F0:49:B1', u'F0:D7:AA:E4:E2:F9', u'24:79:2A:FD:AD:38', u'24:79:2A:3D:AD:38', u'24:79:2A:BD:AD:38', u'A8:16:D0:88:5A:7F', u'76:9E:AF:7A:F8:B5', u'8E:F5:A3:33:27:31', u'38:80:DF:DB:97:B5', u'60:AF:6D:0E:5B:54', u'DC:BF:E9:13:28:5E', u'F0:D7:AA:69:48:7D', u'D0:92:9E:B5:91:DE', u'F0:D7:AA:57:D0:AF', u'18:31:BF:A6:51:30', u'2C:FD:A1:65:B2:BB', u'50:92:B9:67:91:FE', u'DC:BF:E9:53:B8:39', u'C8:E0:EB:3C:79:27', u'7C:C3:A1:B7:AE:66', u'02:1A:11:F9:4E:F5', u'50:92:B9:D7:6B:4A', u'E0:98:61:27:51:4C', u'06:1B:6D:E8:BE:1A', u'88:79:7E:A7:2A:D4', u'40:D3:AE:EA:09:6C', u'74:3E:2B:B8:29:08', u'74:3E:2B:78:29:08', u'18:89:5B:47:E8:95', u'62:F1:89:5F:5E:DA']\n"
     ]
    }
   ],
   "source": [
    "#Opens the CSV File\n",
    "with open('interest_points.csv', 'wb') as csvfile:\n",
    "    filewriter = csv.writer(csvfile, delimiter=',',quotechar='|', quoting=csv.QUOTE_MINIMAL)\n",
    "    #Adds \"room\" as the first column of our CSV\n",
    "    headers.append(\"room\")\n",
    "\n",
    "    #Adds the macAddresses' as the remaining columns\n",
    "    headers += keys\n",
    "\n",
    "    #Write those headers on our CSV\n",
    "    filewriter.writerow(headers)\n",
    "\n",
    "    print(headers)\n",
    "    \n",
    "    #navigates through every document in json\n",
    "    for document in data:\n",
    "\n",
    "        #navigates through every fingerprint inside document fingerprints' array\n",
    "        for fingerprint in document['fingerprints']:\n",
    "            items = [0] * len(macAddresses)\n",
    "\n",
    "            #navigates through every accessPoint inside the fingerprint array\n",
    "            for accessPoint in fingerprint:\n",
    "                if accessPoint['macAddress'] not in forbidenMacAddresses:\n",
    "                    items [macAddresses[accessPoint['macAddress']]] = accessPoint['RSSI']\n",
    "                \n",
    "                row = [document['room']]\n",
    "                row += items\n",
    "                filewriter.writerow(row)"
   ]
  }
 ],
 "metadata": {
  "kernelspec": {
   "display_name": "Python 2",
   "language": "python",
   "name": "python2"
  },
  "language_info": {
   "codemirror_mode": {
    "name": "ipython",
    "version": 2
   },
   "file_extension": ".py",
   "mimetype": "text/x-python",
   "name": "python",
   "nbconvert_exporter": "python",
   "pygments_lexer": "ipython2",
   "version": "2.7.15"
  }
 },
 "nbformat": 4,
 "nbformat_minor": 2
}
