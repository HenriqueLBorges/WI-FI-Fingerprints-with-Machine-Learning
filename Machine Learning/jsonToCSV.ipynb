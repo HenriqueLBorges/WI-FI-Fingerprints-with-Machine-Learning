{
 "cells": [
  {
   "cell_type": "code",
   "execution_count": 1,
   "metadata": {},
   "outputs": [],
   "source": [
    "#Transforms a JSON array document into a CSV document.\n",
    "\n",
    "import json\n",
    "import csv\n",
    "import utils\n",
    "import pickle"
   ]
  },
  {
   "cell_type": "code",
   "execution_count": 2,
   "metadata": {},
   "outputs": [],
   "source": [
    "#MacAddresses that should not be included\n",
    "forbidenMacAddresses = [u'B8:27:EB:A6:7B:C5', u'B8:27:EB:24:1B:E1', u'B8:27:EB:01:F8:EB']"
   ]
  },
  {
   "cell_type": "code",
   "execution_count": 3,
   "metadata": {},
   "outputs": [],
   "source": [
    "#Opens the JSON file.\n",
    "json_data=open('/projects/datasets/TCC/allFiles.json').read()\n",
    "data = json.loads(json_data)"
   ]
  },
  {
   "cell_type": "code",
   "execution_count": 4,
   "metadata": {},
   "outputs": [],
   "source": [
    "macAddresses = {}\n",
    "items = []\n",
    "headers = list()"
   ]
  },
  {
   "cell_type": "code",
   "execution_count": 5,
   "metadata": {},
   "outputs": [
    {
     "name": "stdout",
     "output_type": "stream",
     "text": [
      "[u'24:79:2A:3D:BF:08', u'24:79:2A:FD:BF:08', u'F4:F5:24:1B:8B:AB', u'24:79:2A:BD:BF:08', u'24:79:2A:FD:1E:88', u'24:79:2A:3C:94:68', u'24:79:2A:BC:94:68', u'24:79:2A:FC:94:68', u'24:79:2A:3D:1B:18', u'24:79:2A:BD:1B:18', u'24:79:2A:BD:C5:98', u'24:79:2A:FD:C5:98', u'24:79:2A:3D:C5:98', u'24:79:2A:3D:1E:88', u'24:79:2A:BD:1E:88', u'24:79:2A:FD:1B:18', u'24:79:2A:FD:AB:58', u'24:79:2A:BD:1E:38', u'BE:9F:EF:4C:AF:8F', u'24:79:2A:FD:1E:38', u'24:79:2A:FC:D0:78', u'24:79:2A:FD:16:C8', u'24:79:2A:BD:16:C8', u'24:79:2A:3C:D0:78', u'24:79:2A:BC:D0:78', u'24:79:2A:BD:AB:58', u'24:79:2A:3D:1E:38', u'24:79:2A:3D:AB:58', u'24:79:2A:BD:B0:48', u'F8:E0:79:FE:FA:95', u'24:79:2A:3D:16:C8', u'AA:5C:2C:0B:6E:9F', u'24:79:2A:FD:3D:08', u'24:79:2A:3D:2D:F8', u'24:79:2A:3D:B0:48', u'24:79:2A:BD:2D:F8', u'24:79:2A:FD:30:28', u'24:79:2A:BD:30:28', u'24:79:2A:FD:B0:48', u'24:79:2A:FD:2D:F8', u'B2:60:F1:5E:07:8A', u'62:F1:89:5F:5E:DA', u'24:79:2A:3D:3D:08', u'24:79:2A:BD:3D:08', u'24:79:2A:3D:30:28', u'24:79:2A:3D:31:48', u'D4:63:C6:12:DC:6C', u'24:79:2A:BD:31:48', u'24:79:2A:FD:31:48', u'F4:F5:24:B8:A9:C6', u'22:88:65:50:25:07', u'24:79:2A:7D:BF:08', u'24:79:2A:7D:1B:18', u'24:79:2A:7C:94:68', u'24:79:2A:7D:1E:88', u'24:79:2A:7D:30:28', u'24:79:2A:7C:D0:78', u'24:79:2A:7D:B0:48', u'24:79:2A:7D:16:C8', u'BE:F4:8E:81:F8:10', u'24:79:2A:7D:C5:98', u'24:79:2A:7D:1E:38', u'24:79:2A:7D:3D:08', u'32:07:4D:F7:59:10', u'24:79:2A:7D:2D:F8', u'18:D6:C7:E5:80:E2', u'24:79:2A:7D:AB:58', u'E2:C9:7A:59:88:18', u'06:D6:AA:7C:11:C3', u'C8:E0:EB:3C:7A:DF', u'24:79:2A:FD:AC:18', u'24:79:2A:BD:AC:18', u'24:79:2A:3D:AC:18', u'D4:63:C6:81:9E:30', u'A8:16:D0:A0:7A:CF', u'48:49:C7:1E:E1:00', u'24:79:2A:3D:1F:38', u'24:79:2A:BD:1F:38', u'24:79:2A:FD:1F:38', u'24:79:2A:3D:25:78', u'44:D8:84:6E:34:2B', u'24:79:2A:BD:3C:08', u'24:79:2A:BD:25:78', u'24:79:2A:FD:25:78', u'06:D6:AA:32:92:38', u'24:79:2A:FD:3C:08', u'24:79:2A:FC:D5:38', u'24:79:2A:FD:AB:88', u'24:79:2A:BC:D5:38', u'24:79:2A:BD:AB:88', u'24:79:2A:3C:D5:38', u'24:79:2A:3D:AB:88', u'88:B4:A6:A7:F3:D4', u'24:79:2A:BD:3B:08', u'24:79:2A:3D:3B:08', u'24:79:2A:FD:3B:08', u'AA:B8:6E:27:B2:01', u'24:79:2A:3D:3C:08', u'62:45:CB:99:00:06', u'50:92:B9:38:DC:94', u'F2:D2:B0:50:98:13', u'2E:51:01:78:83:52', u'FE:A9:04:2B:09:CF', u'BA:10:E8:DD:EE:0B', u'A8:96:75:1B:2E:4F', u'7C:C3:A1:B7:CE:12', u'A8:16:D0:8A:54:4B', u'4C:ED:FB:83:62:70', u'24:79:2A:7D:31:48', u'24:79:2A:7D:1F:38', u'24:79:2A:7D:25:78', u'24:79:2A:7D:AB:88', u'24:79:2A:7D:3C:08', u'20:47:DA:08:1A:7F', u'A8:A6:68:BD:0B:7C', u'24:79:2A:7C:D5:38', u'28:83:35:6D:50:AD', u'30:4B:07:44:63:84', u'24:79:2A:7D:3B:08', u'50:92:B9:6E:C0:B8', u'B8:09:8A:D9:05:F1', u'22:56:CD:89:CB:76', u'8C:79:67:93:F4:DC', u'12:F1:F2:98:CA:FD', u'9C:5C:F9:37:3B:86', u'28:83:35:35:85:5B', u'88:B4:A6:B2:AF:29', u'A8:16:D0:32:AA:1F', u'0C:80:63:5B:0C:F2', u'24:79:2A:BC:D8:08', u'7C:DD:90:3E:C6:67', u'24:79:2A:FC:D8:08', u'24:79:2A:3C:D8:08', u'24:79:2A:FC:D3:48', u'24:79:2A:BC:D3:48', u'24:79:2A:3C:D3:48', u'24:79:2A:3D:C5:88', u'22:B8:9A:E8:D5:67', u'24:79:2A:FD:C5:88', u'74:3E:2B:B8:3D:F8', u'24:79:2A:FC:D8:28', u'24:79:2A:BC:D8:28', u'24:79:2A:3C:D8:28', u'02:1A:11:FE:59:7F', u'74:3E:2B:78:3D:F8', u'24:79:2A:7C:D8:08', u'24:79:2A:BD:35:48', u'24:79:2A:3D:35:48', u'24:79:2A:7C:D3:48', u'24:79:2A:7D:C5:88', u'24:79:2A:BD:C5:88', u'24:79:2A:7D:35:48', u'74:3E:2B:78:34:B8', u'74:3E:2B:B8:34:B8', u'24:79:2A:7D:38:78', u'24:79:2A:3D:38:78', u'7A:7F:57:EA:A3:19', u'50:92:B9:D7:6B:4A', u'82:5A:04:FB:C2:C9', u'A8:16:D0:02:87:CF', u'D2:13:FD:0F:A4:92', u'CC:61:E5:B5:6B:7D', u'02:3D:E8:B4:C9:47', u'30:4B:07:12:22:D7', u'24:79:2A:3D:B0:78', u'74:3E:2B:78:2A:A8', u'32:07:4D:70:01:C2', u'74:3E:2B:B8:2A:A8', u'24:79:2A:BD:B0:78', u'24:79:2A:FD:B0:78', u'74:3E:2B:B8:29:08', u'74:3E:2B:78:29:08', u'24:79:2A:BD:2F:D8', u'18:89:5B:47:E8:95', u'24:79:2A:FD:2F:D8', u'24:79:2A:3D:2F:D8', u'24:79:2A:3D:21:08', u'24:79:2A:7D:21:08', u'24:79:2A:7D:2F:D8', u'24:79:2A:7D:B0:78', u'24:79:2A:BD:21:08', u'52:92:B9:DD:7F:88', u'88:B4:A6:AE:91:ED', u'24:79:2A:FD:21:08', u'50:92:B9:89:29:F0', u'88:B4:A6:8B:13:E1', u'74:3E:2B:B8:28:88', u'D0:77:14:67:99:43', u'2A:5A:EB:BC:22:4E', u'9C:2E:A1:7D:AC:ED', u'80:58:F8:B2:F0:F6', u'26:4B:ED:05:BA:BD', u'80:58:F8:42:A0:76', u'D0:92:9E:B5:91:DE', u'24:79:2A:3D:BB:58', u'24:79:2A:BD:BB:58', u'78:02:F8:F8:C7:14', u'50:92:B9:11:ED:60', u'24:79:2A:FD:BB:58', u'62:98:AD:40:0B:14', u'B2:60:F1:0D:12:59', u'06:D6:AA:FA:95:4B', u'98:39:8E:F9:02:DF', u'EC:1D:7F:BC:23:BE', u'D6:63:C6:1D:2A:6C', u'F0:D7:AA:50:0F:E5', u'F6:A3:3D:CA:75:6C', u'90:68:C3:B3:E2:78', u'50:92:B9:FB:42:78', u'88:B4:A6:5D:B9:67', u'F0:9F:C2:F1:4E:8B', u'CC:61:E5:05:31:56', u'F2:9F:C2:F1:4E:8B', u'AE:E4:B5:BE:78:1F', u'64:D1:54:14:54:F5', u'AA:66:A5:37:DF:FA', u'CC:2D:E0:75:F3:18', u'D4:63:C6:22:06:24', u'50:92:B9:56:A9:04', u'14:30:C6:05:80:07', u'50:92:B9:92:74:02', u'DC:BF:E9:16:BE:19', u'74:3E:2B:78:33:08', u'74:3E:2B:B8:33:08', u'80:2A:A8:07:84:1A', u'DC:BF:E9:D2:8B:91', u'D0:04:01:55:10:06', u'8E:45:00:96:B5:C9', u'D0:04:01:52:CB:E3', u'88:B4:A6:E9:32:61', u'24:79:2A:7D:BB:58', u'20:55:31:68:4F:C6']\n"
     ]
    }
   ],
   "source": [
    "#navigates through every document in json\n",
    "for document in data:\n",
    "    #navigates through every fingerprint inside document fingerprints' array\n",
    "    for fingerprint in document['fingerprints']:\n",
    "        #navigates through every access inside the fingerprint array\n",
    "        for accessPoint in fingerprint:\n",
    "            #Mounts a list containing all different Mac Addresses\n",
    "            if accessPoint['macAddress'] not in forbidenMacAddresses and accessPoint['macAddress'] not in items:\n",
    "                items.append(accessPoint['macAddress'])\n",
    "#Prints the list\n",
    "print(items)"
   ]
  },
  {
   "cell_type": "code",
   "execution_count": 6,
   "metadata": {},
   "outputs": [
    {
     "name": "stdout",
     "output_type": "stream",
     "text": [
      "{u'24:79:2A:BD:16:C8': 22, u'24:79:2A:7D:1B:18': 52, u'B8:09:8A:D9:05:F1': 120, u'24:79:2A:7D:AB:88': 111, u'A8:16:D0:A0:7A:CF': 74, u'24:79:2A:3D:3D:08': 42, u'88:B4:A6:8B:13:E1': 185, u'9C:5C:F9:37:3B:86': 124, u'24:79:2A:7D:30:28': 55, u'24:79:2A:BD:AB:58': 25, u'24:79:2A:FD:C5:98': 11, u'AA:5C:2C:0B:6E:9F': 31, u'24:79:2A:BD:1B:18': 9, u'24:79:2A:FC:D8:28': 140, u'24:79:2A:3D:1E:88': 13, u'24:79:2A:3D:BF:08': 0, u'64:D1:54:14:54:F5': 214, u'62:45:CB:99:00:06': 98, u'06:D6:AA:7C:11:C3': 68, u'80:58:F8:B2:F0:F6': 190, u'24:79:2A:BD:C5:98': 10, u'DC:BF:E9:16:BE:19': 221, u'24:79:2A:FD:2F:D8': 174, u'24:79:2A:BD:3B:08': 93, u'D0:92:9E:B5:91:DE': 193, u'24:79:2A:3D:AB:58': 27, u'EC:1D:7F:BC:23:BE': 203, u'24:79:2A:3C:D0:78': 23, u'24:79:2A:7D:2D:F8': 64, u'4C:ED:FB:83:62:70': 107, u'24:79:2A:BD:35:48': 146, u'24:79:2A:7D:21:08': 177, u'50:92:B9:92:74:02': 220, u'44:D8:84:6E:34:2B': 80, u'24:79:2A:FD:16:C8': 21, u'BA:10:E8:DD:EE:0B': 103, u'AE:E4:B5:BE:78:1F': 213, u'24:79:2A:FD:3B:08': 95, u'06:D6:AA:32:92:38': 84, u'24:79:2A:7C:D8:08': 145, u'24:79:2A:FD:C5:88': 138, u'F2:D2:B0:50:98:13': 100, u'74:3E:2B:B8:2A:A8': 167, u'74:3E:2B:78:2A:A8': 165, u'24:79:2A:3C:D5:38': 90, u'F6:A3:3D:CA:75:6C': 206, u'24:79:2A:BC:D3:48': 134, u'7C:DD:90:3E:C6:67': 130, u'24:79:2A:FD:AB:58': 16, u'24:79:2A:FD:1E:88': 4, u'24:79:2A:FD:30:28': 36, u'24:79:2A:BD:B0:78': 168, u'24:79:2A:BD:C5:88': 150, u'24:79:2A:BD:21:08': 180, u'24:79:2A:FC:D0:78': 20, u'18:D6:C7:E5:80:E2': 65, u'98:39:8E:F9:02:DF': 202, u'50:92:B9:11:ED:60': 197, u'88:B4:A6:E9:32:61': 229, u'24:79:2A:3C:D3:48': 135, u'9C:2E:A1:7D:AC:ED': 189, u'7C:C3:A1:B7:CE:12': 105, u'50:92:B9:D7:6B:4A': 157, u'24:79:2A:FD:B0:48': 38, u'24:79:2A:7D:1E:38': 61, u'50:92:B9:56:A9:04': 218, u'24:79:2A:3D:3B:08': 94, u'78:02:F8:F8:C7:14': 196, u'24:79:2A:7D:25:78': 110, u'24:79:2A:3D:C5:88': 136, u'32:07:4D:70:01:C2': 166, u'D4:63:C6:12:DC:6C': 46, u'24:79:2A:BC:D5:38': 88, u'24:79:2A:7C:D5:38': 115, u'24:79:2A:BD:1E:38': 17, u'28:83:35:6D:50:AD': 116, u'14:30:C6:05:80:07': 219, u'24:79:2A:7D:BB:58': 230, u'74:3E:2B:78:33:08': 222, u'D4:63:C6:22:06:24': 217, u'50:92:B9:89:29:F0': 184, u'24:79:2A:7D:3D:08': 62, u'24:79:2A:7D:BF:08': 51, u'22:B8:9A:E8:D5:67': 137, u'24:79:2A:3D:38:78': 155, u'62:98:AD:40:0B:14': 199, u'D4:63:C6:81:9E:30': 73, u'12:F1:F2:98:CA:FD': 123, u'24:79:2A:3D:1F:38': 76, u'24:79:2A:BD:2F:D8': 172, u'2A:5A:EB:BC:22:4E': 188, u'24:79:2A:7D:1F:38': 109, u'24:79:2A:3D:21:08': 176, u'24:79:2A:BD:AB:88': 89, u'CC:61:E5:B5:6B:7D': 161, u'74:3E:2B:B8:28:88': 186, u'52:92:B9:DD:7F:88': 181, u'88:B4:A6:A7:F3:D4': 92, u'24:79:2A:7D:1E:88': 54, u'0C:80:63:5B:0C:F2': 128, u'74:3E:2B:B8:29:08': 170, u'24:79:2A:3D:C5:98': 12, u'BE:F4:8E:81:F8:10': 59, u'24:79:2A:3D:B0:78': 164, u'C8:E0:EB:3C:7A:DF': 69, u'22:56:CD:89:CB:76': 121, u'F4:F5:24:1B:8B:AB': 2, u'24:79:2A:BD:2D:F8': 35, u'DC:BF:E9:D2:8B:91': 225, u'06:D6:AA:FA:95:4B': 201, u'24:79:2A:FD:AC:18': 70, u'D0:04:01:55:10:06': 226, u'A8:96:75:1B:2E:4F': 104, u'CC:2D:E0:75:F3:18': 216, u'24:79:2A:BD:3C:08': 81, u'24:79:2A:7C:94:68': 53, u'F4:F5:24:B8:A9:C6': 49, u'24:79:2A:BD:1F:38': 77, u'74:3E:2B:B8:33:08': 223, u'24:79:2A:FD:BF:08': 1, u'74:3E:2B:B8:3D:F8': 139, u'24:79:2A:FC:D5:38': 86, u'24:79:2A:3C:D8:08': 132, u'24:79:2A:FD:2D:F8': 39, u'74:3E:2B:78:34:B8': 152, u'50:92:B9:FB:42:78': 208, u'A8:A6:68:BD:0B:7C': 114, u'8C:79:67:93:F4:DC': 122, u'24:79:2A:FD:BB:58': 198, u'24:79:2A:FD:3C:08': 85, u'80:58:F8:42:A0:76': 192, u'24:79:2A:FD:1B:18': 15, u'24:79:2A:BD:B0:48': 28, u'24:79:2A:7D:C5:88': 149, u'24:79:2A:BD:31:48': 47, u'24:79:2A:7D:3C:08': 112, u'24:79:2A:7D:AB:58': 66, u'24:79:2A:BC:D0:78': 24, u'24:79:2A:FD:AB:88': 87, u'BE:9F:EF:4C:AF:8F': 18, u'24:79:2A:3D:B0:48': 34, u'24:79:2A:7D:2F:D8': 178, u'D0:77:14:67:99:43': 187, u'24:79:2A:BD:1E:88': 14, u'50:92:B9:38:DC:94': 99, u'2E:51:01:78:83:52': 101, u'02:1A:11:FE:59:7F': 143, u'50:92:B9:6E:C0:B8': 119, u'24:79:2A:FD:1E:38': 19, u'24:79:2A:BC:D8:08': 129, u'74:3E:2B:B8:34:B8': 153, u'80:2A:A8:07:84:1A': 224, u'24:79:2A:FC:D3:48': 133, u'74:3E:2B:78:29:08': 171, u'24:79:2A:7D:B0:78': 179, u'74:3E:2B:78:3D:F8': 144, u'24:79:2A:3D:25:78': 79, u'24:79:2A:3D:AB:88': 91, u'02:3D:E8:B4:C9:47': 162, u'24:79:2A:7D:16:C8': 58, u'D2:13:FD:0F:A4:92': 160, u'30:4B:07:44:63:84': 117, u'D6:63:C6:1D:2A:6C': 204, u'B2:60:F1:5E:07:8A': 40, u'24:79:2A:7D:C5:98': 60, u'F0:D7:AA:50:0F:E5': 205, u'20:55:31:68:4F:C6': 231, u'24:79:2A:7D:35:48': 151, u'24:79:2A:BD:3D:08': 43, u'CC:61:E5:05:31:56': 211, u'24:79:2A:3C:94:68': 5, u'D0:04:01:52:CB:E3': 228, u'32:07:4D:F7:59:10': 63, u'E2:C9:7A:59:88:18': 67, u'7A:7F:57:EA:A3:19': 156, u'24:79:2A:3D:1E:38': 26, u'90:68:C3:B3:E2:78': 207, u'24:79:2A:3C:D8:28': 142, u'24:79:2A:3D:2F:D8': 175, u'24:79:2A:3D:BB:58': 194, u'24:79:2A:3D:3C:08': 97, u'24:79:2A:7D:3B:08': 118, u'62:F1:89:5F:5E:DA': 41, u'88:B4:A6:B2:AF:29': 126, u'22:88:65:50:25:07': 50, u'24:79:2A:FD:21:08': 183, u'24:79:2A:FC:D8:08': 131, u'88:B4:A6:5D:B9:67': 209, u'24:79:2A:7D:B0:48': 57, u'24:79:2A:3D:2D:F8': 33, u'48:49:C7:1E:E1:00': 75, u'26:4B:ED:05:BA:BD': 191, u'24:79:2A:BD:BB:58': 195, u'24:79:2A:FD:B0:78': 169, u'24:79:2A:3D:AC:18': 72, u'A8:16:D0:02:87:CF': 159, u'24:79:2A:7C:D0:78': 56, u'A8:16:D0:8A:54:4B': 106, u'24:79:2A:7D:38:78': 154, u'24:79:2A:FC:94:68': 7, u'24:79:2A:3D:35:48': 147, u'24:79:2A:BD:AC:18': 71, u'A8:16:D0:32:AA:1F': 127, u'20:47:DA:08:1A:7F': 113, u'88:B4:A6:AE:91:ED': 182, u'24:79:2A:BC:D8:28': 141, u'18:89:5B:47:E8:95': 173, u'F2:9F:C2:F1:4E:8B': 212, u'30:4B:07:12:22:D7': 163, u'FE:A9:04:2B:09:CF': 102, u'24:79:2A:FD:3D:08': 32, u'24:79:2A:FD:25:78': 83, u'24:79:2A:BD:25:78': 82, u'AA:66:A5:37:DF:FA': 215, u'F8:E0:79:FE:FA:95': 29, u'B2:60:F1:0D:12:59': 200, u'24:79:2A:FD:31:48': 48, u'24:79:2A:BD:30:28': 37, u'24:79:2A:BC:94:68': 6, u'F0:9F:C2:F1:4E:8B': 210, u'24:79:2A:FD:1F:38': 78, u'24:79:2A:3D:1B:18': 8, u'28:83:35:35:85:5B': 125, u'24:79:2A:3D:31:48': 45, u'24:79:2A:7D:31:48': 108, u'24:79:2A:7C:D3:48': 148, u'24:79:2A:3D:30:28': 44, u'AA:B8:6E:27:B2:01': 96, u'24:79:2A:3D:16:C8': 30, u'82:5A:04:FB:C2:C9': 158, u'24:79:2A:BD:BF:08': 3, u'8E:45:00:96:B5:C9': 227}\n"
     ]
    }
   ],
   "source": [
    "#Creates a dictionaire containing the macAddresses' correct position and a list that will be use as columns for our CSV file\n",
    "keys = []\n",
    "for i in range(len(items)):\n",
    "    macAddresses [items[i]] = i\n",
    "    keys.append(items[i])\n",
    "#Prints the macAddresses' dictionaire   \n",
    "print(macAddresses)"
   ]
  },
  {
   "cell_type": "code",
   "execution_count": 7,
   "metadata": {},
   "outputs": [],
   "source": [
    "#Saves the macAddresses' dictionaire\n",
    "with open('./macAddresses.pkl', 'wb') as f:\n",
    "    pickle.dump(macAddresses, f, pickle.HIGHEST_PROTOCOL)"
   ]
  },
  {
   "cell_type": "code",
   "execution_count": 8,
   "metadata": {},
   "outputs": [
    {
     "name": "stdout",
     "output_type": "stream",
     "text": [
      "['room', u'24:79:2A:3D:BF:08', u'24:79:2A:FD:BF:08', u'F4:F5:24:1B:8B:AB', u'24:79:2A:BD:BF:08', u'24:79:2A:FD:1E:88', u'24:79:2A:3C:94:68', u'24:79:2A:BC:94:68', u'24:79:2A:FC:94:68', u'24:79:2A:3D:1B:18', u'24:79:2A:BD:1B:18', u'24:79:2A:BD:C5:98', u'24:79:2A:FD:C5:98', u'24:79:2A:3D:C5:98', u'24:79:2A:3D:1E:88', u'24:79:2A:BD:1E:88', u'24:79:2A:FD:1B:18', u'24:79:2A:FD:AB:58', u'24:79:2A:BD:1E:38', u'BE:9F:EF:4C:AF:8F', u'24:79:2A:FD:1E:38', u'24:79:2A:FC:D0:78', u'24:79:2A:FD:16:C8', u'24:79:2A:BD:16:C8', u'24:79:2A:3C:D0:78', u'24:79:2A:BC:D0:78', u'24:79:2A:BD:AB:58', u'24:79:2A:3D:1E:38', u'24:79:2A:3D:AB:58', u'24:79:2A:BD:B0:48', u'F8:E0:79:FE:FA:95', u'24:79:2A:3D:16:C8', u'AA:5C:2C:0B:6E:9F', u'24:79:2A:FD:3D:08', u'24:79:2A:3D:2D:F8', u'24:79:2A:3D:B0:48', u'24:79:2A:BD:2D:F8', u'24:79:2A:FD:30:28', u'24:79:2A:BD:30:28', u'24:79:2A:FD:B0:48', u'24:79:2A:FD:2D:F8', u'B2:60:F1:5E:07:8A', u'62:F1:89:5F:5E:DA', u'24:79:2A:3D:3D:08', u'24:79:2A:BD:3D:08', u'24:79:2A:3D:30:28', u'24:79:2A:3D:31:48', u'D4:63:C6:12:DC:6C', u'24:79:2A:BD:31:48', u'24:79:2A:FD:31:48', u'F4:F5:24:B8:A9:C6', u'22:88:65:50:25:07', u'24:79:2A:7D:BF:08', u'24:79:2A:7D:1B:18', u'24:79:2A:7C:94:68', u'24:79:2A:7D:1E:88', u'24:79:2A:7D:30:28', u'24:79:2A:7C:D0:78', u'24:79:2A:7D:B0:48', u'24:79:2A:7D:16:C8', u'BE:F4:8E:81:F8:10', u'24:79:2A:7D:C5:98', u'24:79:2A:7D:1E:38', u'24:79:2A:7D:3D:08', u'32:07:4D:F7:59:10', u'24:79:2A:7D:2D:F8', u'18:D6:C7:E5:80:E2', u'24:79:2A:7D:AB:58', u'E2:C9:7A:59:88:18', u'06:D6:AA:7C:11:C3', u'C8:E0:EB:3C:7A:DF', u'24:79:2A:FD:AC:18', u'24:79:2A:BD:AC:18', u'24:79:2A:3D:AC:18', u'D4:63:C6:81:9E:30', u'A8:16:D0:A0:7A:CF', u'48:49:C7:1E:E1:00', u'24:79:2A:3D:1F:38', u'24:79:2A:BD:1F:38', u'24:79:2A:FD:1F:38', u'24:79:2A:3D:25:78', u'44:D8:84:6E:34:2B', u'24:79:2A:BD:3C:08', u'24:79:2A:BD:25:78', u'24:79:2A:FD:25:78', u'06:D6:AA:32:92:38', u'24:79:2A:FD:3C:08', u'24:79:2A:FC:D5:38', u'24:79:2A:FD:AB:88', u'24:79:2A:BC:D5:38', u'24:79:2A:BD:AB:88', u'24:79:2A:3C:D5:38', u'24:79:2A:3D:AB:88', u'88:B4:A6:A7:F3:D4', u'24:79:2A:BD:3B:08', u'24:79:2A:3D:3B:08', u'24:79:2A:FD:3B:08', u'AA:B8:6E:27:B2:01', u'24:79:2A:3D:3C:08', u'62:45:CB:99:00:06', u'50:92:B9:38:DC:94', u'F2:D2:B0:50:98:13', u'2E:51:01:78:83:52', u'FE:A9:04:2B:09:CF', u'BA:10:E8:DD:EE:0B', u'A8:96:75:1B:2E:4F', u'7C:C3:A1:B7:CE:12', u'A8:16:D0:8A:54:4B', u'4C:ED:FB:83:62:70', u'24:79:2A:7D:31:48', u'24:79:2A:7D:1F:38', u'24:79:2A:7D:25:78', u'24:79:2A:7D:AB:88', u'24:79:2A:7D:3C:08', u'20:47:DA:08:1A:7F', u'A8:A6:68:BD:0B:7C', u'24:79:2A:7C:D5:38', u'28:83:35:6D:50:AD', u'30:4B:07:44:63:84', u'24:79:2A:7D:3B:08', u'50:92:B9:6E:C0:B8', u'B8:09:8A:D9:05:F1', u'22:56:CD:89:CB:76', u'8C:79:67:93:F4:DC', u'12:F1:F2:98:CA:FD', u'9C:5C:F9:37:3B:86', u'28:83:35:35:85:5B', u'88:B4:A6:B2:AF:29', u'A8:16:D0:32:AA:1F', u'0C:80:63:5B:0C:F2', u'24:79:2A:BC:D8:08', u'7C:DD:90:3E:C6:67', u'24:79:2A:FC:D8:08', u'24:79:2A:3C:D8:08', u'24:79:2A:FC:D3:48', u'24:79:2A:BC:D3:48', u'24:79:2A:3C:D3:48', u'24:79:2A:3D:C5:88', u'22:B8:9A:E8:D5:67', u'24:79:2A:FD:C5:88', u'74:3E:2B:B8:3D:F8', u'24:79:2A:FC:D8:28', u'24:79:2A:BC:D8:28', u'24:79:2A:3C:D8:28', u'02:1A:11:FE:59:7F', u'74:3E:2B:78:3D:F8', u'24:79:2A:7C:D8:08', u'24:79:2A:BD:35:48', u'24:79:2A:3D:35:48', u'24:79:2A:7C:D3:48', u'24:79:2A:7D:C5:88', u'24:79:2A:BD:C5:88', u'24:79:2A:7D:35:48', u'74:3E:2B:78:34:B8', u'74:3E:2B:B8:34:B8', u'24:79:2A:7D:38:78', u'24:79:2A:3D:38:78', u'7A:7F:57:EA:A3:19', u'50:92:B9:D7:6B:4A', u'82:5A:04:FB:C2:C9', u'A8:16:D0:02:87:CF', u'D2:13:FD:0F:A4:92', u'CC:61:E5:B5:6B:7D', u'02:3D:E8:B4:C9:47', u'30:4B:07:12:22:D7', u'24:79:2A:3D:B0:78', u'74:3E:2B:78:2A:A8', u'32:07:4D:70:01:C2', u'74:3E:2B:B8:2A:A8', u'24:79:2A:BD:B0:78', u'24:79:2A:FD:B0:78', u'74:3E:2B:B8:29:08', u'74:3E:2B:78:29:08', u'24:79:2A:BD:2F:D8', u'18:89:5B:47:E8:95', u'24:79:2A:FD:2F:D8', u'24:79:2A:3D:2F:D8', u'24:79:2A:3D:21:08', u'24:79:2A:7D:21:08', u'24:79:2A:7D:2F:D8', u'24:79:2A:7D:B0:78', u'24:79:2A:BD:21:08', u'52:92:B9:DD:7F:88', u'88:B4:A6:AE:91:ED', u'24:79:2A:FD:21:08', u'50:92:B9:89:29:F0', u'88:B4:A6:8B:13:E1', u'74:3E:2B:B8:28:88', u'D0:77:14:67:99:43', u'2A:5A:EB:BC:22:4E', u'9C:2E:A1:7D:AC:ED', u'80:58:F8:B2:F0:F6', u'26:4B:ED:05:BA:BD', u'80:58:F8:42:A0:76', u'D0:92:9E:B5:91:DE', u'24:79:2A:3D:BB:58', u'24:79:2A:BD:BB:58', u'78:02:F8:F8:C7:14', u'50:92:B9:11:ED:60', u'24:79:2A:FD:BB:58', u'62:98:AD:40:0B:14', u'B2:60:F1:0D:12:59', u'06:D6:AA:FA:95:4B', u'98:39:8E:F9:02:DF', u'EC:1D:7F:BC:23:BE', u'D6:63:C6:1D:2A:6C', u'F0:D7:AA:50:0F:E5', u'F6:A3:3D:CA:75:6C', u'90:68:C3:B3:E2:78', u'50:92:B9:FB:42:78', u'88:B4:A6:5D:B9:67', u'F0:9F:C2:F1:4E:8B', u'CC:61:E5:05:31:56', u'F2:9F:C2:F1:4E:8B', u'AE:E4:B5:BE:78:1F', u'64:D1:54:14:54:F5', u'AA:66:A5:37:DF:FA', u'CC:2D:E0:75:F3:18', u'D4:63:C6:22:06:24', u'50:92:B9:56:A9:04', u'14:30:C6:05:80:07', u'50:92:B9:92:74:02', u'DC:BF:E9:16:BE:19', u'74:3E:2B:78:33:08', u'74:3E:2B:B8:33:08', u'80:2A:A8:07:84:1A', u'DC:BF:E9:D2:8B:91', u'D0:04:01:55:10:06', u'8E:45:00:96:B5:C9', u'D0:04:01:52:CB:E3', u'88:B4:A6:E9:32:61', u'24:79:2A:7D:BB:58', u'20:55:31:68:4F:C6']\n"
     ]
    }
   ],
   "source": [
    "#Opens the CSV File\n",
    "with open('interest_points.csv', 'wb') as csvfile:\n",
    "    filewriter = csv.writer(csvfile, delimiter=',',quotechar='|', quoting=csv.QUOTE_MINIMAL)\n",
    "    #Adds \"room\" as the first column of our CSV\n",
    "    headers.append(\"room\")\n",
    "\n",
    "    #Adds the macAddresses' as the remaining columns\n",
    "    headers += keys\n",
    "\n",
    "    #Write those headers on our CSV\n",
    "    filewriter.writerow(headers)\n",
    "\n",
    "    print(headers)\n",
    "    \n",
    "    #navigates through every document in json\n",
    "    for document in data:\n",
    "\n",
    "        #navigates through every fingerprint inside document fingerprints' array\n",
    "        for fingerprint in document['fingerprints']:\n",
    "            items = [0] * len(macAddresses)\n",
    "\n",
    "            #navigates through every accessPoint inside the fingerprint array\n",
    "            for accessPoint in fingerprint:\n",
    "                if accessPoint['macAddress'] not in forbidenMacAddresses:\n",
    "                    items [macAddresses[accessPoint['macAddress']]] = accessPoint['RSSI']\n",
    "                \n",
    "                row = [document['room']]\n",
    "                row += items\n",
    "                filewriter.writerow(row)"
   ]
  },
  {
   "cell_type": "code",
   "execution_count": null,
   "metadata": {},
   "outputs": [],
   "source": []
  }
 ],
 "metadata": {
  "kernelspec": {
   "display_name": "Python 2",
   "language": "python",
   "name": "python2"
  },
  "language_info": {
   "codemirror_mode": {
    "name": "ipython",
    "version": 2
   },
   "file_extension": ".py",
   "mimetype": "text/x-python",
   "name": "python",
   "nbconvert_exporter": "python",
   "pygments_lexer": "ipython2",
   "version": "2.7.15"
  }
 },
 "nbformat": 4,
 "nbformat_minor": 2
}
