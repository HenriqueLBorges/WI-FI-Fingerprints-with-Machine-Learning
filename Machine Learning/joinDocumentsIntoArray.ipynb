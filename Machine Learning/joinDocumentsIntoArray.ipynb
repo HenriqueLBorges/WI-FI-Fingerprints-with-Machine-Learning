{
 "cells": [
  {
   "cell_type": "code",
   "execution_count": 1,
   "metadata": {},
   "outputs": [],
   "source": [
    "import json\n",
    "documents_path = '/projects/datasets/TCC/imports/'\n",
    "dataset_path = '/projects/datasets/TCC/'\n",
    "#names of all files containg JSON documents that will be merged\n",
    "files = ['E169-extended', 'E168-extended', 'E167-extended', 'E166-extended', 'C135-extended', 'C134-extended', 'C133-extended', 'C131-extended', 'B130-extended', 'B129-extended', 'B128-extended', 'B127-extended', 'B126-extended', 'A125-extended', 'A123-extended', 'A121-extended', 'A120-extended', 'A119-extended', 'A118-extended', 'E-C-extended', 'C-B-extended', 'B-A-extended', 'A-E-extended']\n",
    "items = []"
   ]
  },
  {
   "cell_type": "code",
   "execution_count": 2,
   "metadata": {},
   "outputs": [],
   "source": [
    "#Loads every file into a list\n",
    "for file in files:\n",
    "    json_data = open(documents_path + file + '.json').read()\n",
    "    data = json.loads(json_data)\n",
    "    \n",
    "    #Saves every document inside a list\n",
    "    items.append(data)"
   ]
  },
  {
   "cell_type": "code",
   "execution_count": 3,
   "metadata": {},
   "outputs": [],
   "source": [
    "#Saves the list containing all documents as JSON Array\n",
    "with open(dataset_path + 'allFiles.json', 'w') as outfile:\n",
    "    json.dump(items, outfile)"
   ]
  },
  {
   "cell_type": "code",
   "execution_count": null,
   "metadata": {},
   "outputs": [],
   "source": []
  }
 ],
 "metadata": {
  "kernelspec": {
   "display_name": "Python 2",
   "language": "python",
   "name": "python2"
  },
  "language_info": {
   "codemirror_mode": {
    "name": "ipython",
    "version": 2
   },
   "file_extension": ".py",
   "mimetype": "text/x-python",
   "name": "python",
   "nbconvert_exporter": "python",
   "pygments_lexer": "ipython2",
   "version": "2.7.15"
  }
 },
 "nbformat": 4,
 "nbformat_minor": 2
}
